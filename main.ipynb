{
 "cells": [
  {
   "cell_type": "code",
   "execution_count": null,
   "id": "a611a280",
   "metadata": {
    "cellId": "9as017o918ddxnxm8thzgs",
    "execution_id": "3f101620-f2ee-4a4b-bbb4-8854a6b454fe"
   },
   "outputs": [],
   "source": [
    "a = 'hello'\n",
    "print(hello)"
   ]
  },
  {
   "cell_type": "code",
   "execution_count": null,
   "id": "4f267ea5",
   "metadata": {
    "cellId": "1kjp48dvwpxypeo9dok2mh"
   },
   "outputs": [],
   "source": []
  }
 ],
 "metadata": {
  "language_info": {
   "codemirror_mode": {
    "name": "ipython",
    "version": 3
   },
   "file_extension": ".py",
   "mimetype": "text/x-python",
   "name": "python",
   "nbconvert_exporter": "python",
   "pygments_lexer": "ipython3",
   "version": "3.7.7"
  },
  "notebookId": "e64ed3e1-03f0-4d20-9aaf-6fa3ae7396ef",
  "notebookPath": "hse-hackaton/Untitled.ipynb"
 },
 "nbformat": 4,
 "nbformat_minor": 5
}
