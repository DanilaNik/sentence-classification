{
 "cells": [
  {
   "cell_type": "code",
   "execution_count": 424,
   "id": "492835c0",
   "metadata": {
    "cellId": "gho4audvbs01x18ccjar"
   },
   "outputs": [],
   "source": [
    "#!g1.1\n",
    "\n",
    "import pandas as pd\n",
    "import numpy as np\n",
    "# import tensorflow as tf\n",
    "from tensorflow.keras.preprocessing.text import Tokenizer\n",
    "from tensorflow.keras.preprocessing.sequence import pad_sequences\n",
    "# from sklearn import preprocessing\n",
    "from keras.models import load_model\n",
    "\n",
    "class ModelLoader():\n",
    "    def __init__(self):\n",
    "        self.models = []\n",
    "        for i in range(1, 5):\n",
    "            self.models.append(load_model('/home/jupyter/mnt/s3/main-data/models/model' + str(i) + '.h5'))\n",
    "\n",
    "def predicted(sentence):\n",
    "    res = [0.0, 0.0, 0.0]\n",
    "#     model = load_model('/home/jupyter/mnt/s3/main-data/models/model1.h5')\n",
    "    sequence = tokenizer.texts_to_sequences([sentence])\n",
    "    padded = pad_sequences(sequence, maxlen=100, padding='post', truncating='post')\n",
    "    predictions = loader.models[0].predict(padded)\n",
    "    for i in range(3):\n",
    "        res[i] += predictions[0][i]\n",
    "    return res"
   ]
  },
  {
   "cell_type": "code",
   "execution_count": 425,
   "id": "53fb6fd0",
   "metadata": {
    "cellId": "8ekebohcvjqxg7ow9z7l6s"
   },
   "outputs": [
    {
     "ename": "TypeError",
     "evalue": "texts_to_sequences() missing 1 required positional argument: 'texts'",
     "output_type": "error",
     "traceback": [
      "\u001b[0;31m---------------------------------------------------------------------------\u001b[0m",
      "\u001b[0;31mTypeError\u001b[0m                                 Traceback (most recent call last)",
      "\u001b[0;32m<ipython-input-33-79512cd02eda>\u001b[0m in \u001b[0;36m<module>\u001b[0;34m\u001b[0m\n\u001b[1;32m      1\u001b[0m \u001b[0mloader\u001b[0m \u001b[0;34m=\u001b[0m \u001b[0mModelLoader\u001b[0m\u001b[0;34m(\u001b[0m\u001b[0;34m)\u001b[0m\u001b[0;34m\u001b[0m\u001b[0;34m\u001b[0m\u001b[0m\n\u001b[0;32m----> 2\u001b[0;31m \u001b[0ma\u001b[0m \u001b[0;34m=\u001b[0m \u001b[0mpredicted\u001b[0m\u001b[0;34m(\u001b[0m\u001b[0;34m'(отношение к клиенту просто ужас и такие как А. Б-ва не должны работать в принципе с клиентами.'\u001b[0m\u001b[0;34m)\u001b[0m\u001b[0;34m\u001b[0m\u001b[0;34m\u001b[0m\u001b[0m\n\u001b[0m\u001b[1;32m      3\u001b[0m \u001b[0ma\u001b[0m\u001b[0;34m\u001b[0m\u001b[0;34m\u001b[0m\u001b[0m\n\u001b[1;32m      4\u001b[0m \u001b[0;31m#\u001b[0m\u001b[0;34m\u001b[0m\u001b[0;34m\u001b[0m\u001b[0;34m\u001b[0m\u001b[0m\n",
      "\u001b[0;32m<ipython-input-32-a4a96cc363c2>\u001b[0m in \u001b[0;36mpredicted\u001b[0;34m(sentence)\u001b[0m\n\u001b[1;32m     16\u001b[0m     \u001b[0mres\u001b[0m \u001b[0;34m=\u001b[0m \u001b[0;34m[\u001b[0m\u001b[0;36m0.0\u001b[0m\u001b[0;34m,\u001b[0m \u001b[0;36m0.0\u001b[0m\u001b[0;34m,\u001b[0m \u001b[0;36m0.0\u001b[0m\u001b[0;34m]\u001b[0m\u001b[0;34m\u001b[0m\u001b[0;34m\u001b[0m\u001b[0m\n\u001b[1;32m     17\u001b[0m \u001b[0;31m#     model = load_model('/home/jupyter/mnt/s3/main-data/models/model1.h5')\u001b[0m\u001b[0;34m\u001b[0m\u001b[0;34m\u001b[0m\u001b[0;34m\u001b[0m\u001b[0m\n\u001b[0;32m---> 18\u001b[0;31m     \u001b[0msequence\u001b[0m \u001b[0;34m=\u001b[0m \u001b[0mtokenizer\u001b[0m\u001b[0;34m.\u001b[0m\u001b[0mtexts_to_sequences\u001b[0m\u001b[0;34m(\u001b[0m\u001b[0;34m[\u001b[0m\u001b[0msentence\u001b[0m\u001b[0;34m]\u001b[0m\u001b[0;34m)\u001b[0m\u001b[0;34m\u001b[0m\u001b[0;34m\u001b[0m\u001b[0m\n\u001b[0m\u001b[1;32m     19\u001b[0m     \u001b[0mpadded\u001b[0m \u001b[0;34m=\u001b[0m \u001b[0mpad_sequences\u001b[0m\u001b[0;34m(\u001b[0m\u001b[0msequence\u001b[0m\u001b[0;34m,\u001b[0m \u001b[0mmaxlen\u001b[0m\u001b[0;34m=\u001b[0m\u001b[0;36m100\u001b[0m\u001b[0;34m,\u001b[0m \u001b[0mpadding\u001b[0m\u001b[0;34m=\u001b[0m\u001b[0;34m'post'\u001b[0m\u001b[0;34m,\u001b[0m \u001b[0mtruncating\u001b[0m\u001b[0;34m=\u001b[0m\u001b[0;34m'post'\u001b[0m\u001b[0;34m)\u001b[0m\u001b[0;34m\u001b[0m\u001b[0;34m\u001b[0m\u001b[0m\n\u001b[1;32m     20\u001b[0m     \u001b[0mpredictions\u001b[0m \u001b[0;34m=\u001b[0m \u001b[0mloader\u001b[0m\u001b[0;34m.\u001b[0m\u001b[0mmodels\u001b[0m\u001b[0;34m[\u001b[0m\u001b[0;36m0\u001b[0m\u001b[0;34m]\u001b[0m\u001b[0;34m.\u001b[0m\u001b[0mpredict\u001b[0m\u001b[0;34m(\u001b[0m\u001b[0mpadded\u001b[0m\u001b[0;34m)\u001b[0m\u001b[0;34m\u001b[0m\u001b[0;34m\u001b[0m\u001b[0m\n",
      "\u001b[0;31mTypeError\u001b[0m: texts_to_sequences() missing 1 required positional argument: 'texts'"
     ]
    }
   ],
   "source": [
    "#!g1.1\n",
    "loader = ModelLoader()\n",
    "a = predicted('(отношение к клиенту просто ужас и такие как А. Б-ва не должны работать в принципе с клиентами.')\n",
    "a"
   ]
  },
  {
   "cell_type": "code",
   "execution_count": null,
   "id": "5017777f",
   "metadata": {
    "cellId": "d22s5y9chr8mou18qd30zk"
   },
   "outputs": [],
   "source": [
    "#!g1.1\n"
   ]
  }
 ],
 "metadata": {
  "kernelspec": {
   "display_name": "DataSphere Kernel",
   "language": "python",
   "name": "python3"
  },
  "language_info": {
   "codemirror_mode": {
    "name": "ipython",
    "version": 3
   },
   "file_extension": ".py",
   "mimetype": "text/x-python",
   "name": "python",
   "nbconvert_exporter": "python",
   "pygments_lexer": "ipython3",
   "version": "3.7.7"
  },
  "notebookId": "f4373bfd-62d6-49eb-b51b-5ab4b9601c2a",
  "notebookPath": "hse-hackaton/Untitled.ipynb"
 },
 "nbformat": 4,
 "nbformat_minor": 5
}
